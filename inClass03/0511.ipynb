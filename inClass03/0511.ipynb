{
 "cells": [
  {
   "cell_type": "markdown",
   "metadata": {},
   "source": [
    "# Request & JS\n",
    "#### 單純使用urlopen不會讓js執行"
   ]
  },
  {
   "cell_type": "code",
   "execution_count": 3,
   "metadata": {},
   "outputs": [
    {
     "data": {
      "text/plain": [
       "b'<html>\\n<head>\\n<title>Some JavaScript-loaded content</title>\\n<script src=\"../js/jquery-2.1.1.min.js\"></script>\\n\\n</head>\\n<body>\\n<div id=\"content\">\\nThis is some content that will appear on the page while it\\'s loading. You don\\'t care about scraping this.\\n</div>\\n\\n<script>\\n$.ajax({\\n    type: \"GET\",\\n    url: \"loadedContent.php\",\\n    success: function(response){\\n\\n\\tsetTimeout(function() {\\n\\t    $(\\'#content\\').html(response);\\n\\t}, 2000);\\n    }\\n  });\\n\\nfunction ajax_delay(str){\\n setTimeout(\"str\",2000);\\n}\\n</script>\\n</body>\\n</html>'"
      ]
     },
     "execution_count": 3,
     "metadata": {},
     "output_type": "execute_result"
    }
   ],
   "source": [
    "from urllib.request import urlopen\n",
    "html = urlopen(\"http://pythonscraping.com/pages/javascript/ajaxDemo.html\")\n",
    "html.read()"
   ]
  },
  {
   "cell_type": "markdown",
   "metadata": {},
   "source": [
    "## PhantomJS with Selenium\n",
    "#### 讓爬蟲可以執行js\n",
    "phantomjs建議到官網下載後解壓縮到專案目錄下"
   ]
  },
  {
   "cell_type": "code",
   "execution_count": 6,
   "metadata": {},
   "outputs": [
    {
     "name": "stderr",
     "output_type": "stream",
     "text": [
      "c:\\users\\wade\\.virtualenvs\\im711-rxchfmxv\\lib\\site-packages\\selenium\\webdriver\\phantomjs\\webdriver.py:49: UserWarning: Selenium support for PhantomJS has been deprecated, please use headless versions of Chrome or Firefox instead\n",
      "  warnings.warn('Selenium support for PhantomJS has been deprecated, please use headless '\n"
     ]
    },
    {
     "name": "stdout",
     "output_type": "stream",
     "text": [
      "Here is some important text you want to retrieve!\n",
      "A button to click!\n"
     ]
    }
   ],
   "source": [
    "from selenium import webdriver\n",
    "import time\n",
    "\n",
    "# 設定phantomjS的啟用位置\n",
    "driver = webdriver.PhantomJS(executable_path='./phantomjs-2.1.1-windows/phantomjs-2.1.1-windows/bin/phantomjs.exe')\n",
    "driver.get(\"http://pythonscraping.com/pages/javascript/ajaxDemo.html\")\n",
    "time.sleep(3)\n",
    "# Selenium Selector\n",
    "print(driver.find_element_by_id(\"content\").text)"
   ]
  },
  {
   "cell_type": "markdown",
   "metadata": {},
   "source": [
    "### 轉換成BeautifulSoup Object"
   ]
  },
  {
   "cell_type": "code",
   "execution_count": 7,
   "metadata": {},
   "outputs": [
    {
     "name": "stdout",
     "output_type": "stream",
     "text": [
      "Here is some important text you want to retrieve! A button to click!\n"
     ]
    }
   ],
   "source": [
    "from bs4 import BeautifulSoup\n",
    "\n",
    "pageSource = driver.page_source\n",
    "bsObj = BeautifulSoup(pageSource)\n",
    "print(bsObj.find(id=\"content\").get_text())\n",
    "\n",
    "driver.close()"
   ]
  },
  {
   "cell_type": "markdown",
   "metadata": {},
   "source": [
    "### 使用FireFox/ Chrome取代PhantomJS\n",
    "> https://sites.google.com/a/chromium.org/chromedriver/getting-started"
   ]
  },
  {
   "cell_type": "code",
   "execution_count": 18,
   "metadata": {},
   "outputs": [],
   "source": [
    "from selenium.webdriver.chrome.options import Options\n",
    "\n",
    "options = Options()\n",
    "\n",
    "# 阻止執行 cell後會直接跳一個chrome出來\n",
    "options.add_argument('--headless')\n",
    "\n",
    "web = webdriver.Chrome('./chromedriver_win32/chromedriver.exe', options=options)\n",
    "\n",
    "web.get('http://www.cwb.gov.tw/V7/')\n",
    "\n",
    "web.close()"
   ]
  },
  {
   "cell_type": "markdown",
   "metadata": {},
   "source": [
    "## XPath"
   ]
  },
  {
   "cell_type": "code",
   "execution_count": null,
   "metadata": {},
   "outputs": [],
   "source": []
  }
 ],
 "metadata": {
  "kernelspec": {
   "display_name": "Python 3",
   "language": "python",
   "name": "python3"
  },
  "language_info": {
   "codemirror_mode": {
    "name": "ipython",
    "version": 3
   },
   "file_extension": ".py",
   "mimetype": "text/x-python",
   "name": "python",
   "nbconvert_exporter": "python",
   "pygments_lexer": "ipython3",
   "version": "3.7.3"
  }
 },
 "nbformat": 4,
 "nbformat_minor": 2
}
