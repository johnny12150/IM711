{
 "cells": [
  {
   "cell_type": "markdown",
   "metadata": {},
   "source": [
    "## 進階使用\n",
    "### 1. 帶參數(query)"
   ]
  },
  {
   "cell_type": "code",
   "execution_count": 5,
   "metadata": {},
   "outputs": [
    {
     "data": {
      "text/plain": [
       "'Hello there, John Su!'"
      ]
     },
     "execution_count": 5,
     "metadata": {},
     "output_type": "execute_result"
    }
   ],
   "source": [
    "import requests\n",
    "# 表單頁面: http://www.pythonscraping.com/pages/files/form.html\n",
    "# 參數的名稱會依據 input的 name\n",
    "param = {'firstname': 'John', 'lastname': 'Su'}\n",
    "r = requests.post(\"http://www.pythonscraping.com/pages/files/processing.php\", data=param)\n",
    "r.text"
   ]
  },
  {
   "cell_type": "markdown",
   "metadata": {},
   "source": [
    "### 2. Cookie\n",
    "EX: Login"
   ]
  },
  {
   "cell_type": "code",
   "execution_count": 13,
   "metadata": {},
   "outputs": [
    {
     "data": {
      "text/plain": [
       "{'loggedin': '1', 'username': 'username'}"
      ]
     },
     "execution_count": 13,
     "metadata": {},
     "output_type": "execute_result"
    }
   ],
   "source": [
    "login_data = {'username': 'username', 'password': 'password'}\n",
    "response = requests.post(\"http://www.pythonscraping.com/pages/cookies/welcome.php\", data = login_data)\n",
    "response.cookies.get_dict()"
   ]
  },
  {
   "cell_type": "markdown",
   "metadata": {},
   "source": [
    "帶入上次登入時取得的cookie"
   ]
  },
  {
   "cell_type": "code",
   "execution_count": 15,
   "metadata": {},
   "outputs": [
    {
     "data": {
      "text/plain": [
       "<Response [404]>"
      ]
     },
     "execution_count": 15,
     "metadata": {},
     "output_type": "execute_result"
    }
   ],
   "source": [
    "requests.get(\"http://www.pythonscraping.com/pages/cookies/profile.php\", cookies = response.cookies.get_dict())\n",
    "# 頁面真的不存在了"
   ]
  },
  {
   "cell_type": "markdown",
   "metadata": {},
   "source": [
    "### 3. Session\n",
    "使用session，省卻之後每個網頁都需人工傳遞cookies的麻煩\n",
    "(cookie存在session之中)"
   ]
  },
  {
   "cell_type": "code",
   "execution_count": 16,
   "metadata": {},
   "outputs": [
    {
     "data": {
      "text/plain": [
       "{'loggedin': '1', 'username': 'username'}"
      ]
     },
     "execution_count": 16,
     "metadata": {},
     "output_type": "execute_result"
    }
   ],
   "source": [
    "session = requests.Session()\n",
    "login_data = {'username': 'username', 'password': 'password'}\n",
    "response = session.post(\"http://www.pythonscraping.com/pages/cookies/welcome.php\", login_data)\n",
    "response.cookies.get_dict()"
   ]
  },
  {
   "cell_type": "code",
   "execution_count": 17,
   "metadata": {},
   "outputs": [
    {
     "data": {
      "text/plain": [
       "<Response [404]>"
      ]
     },
     "execution_count": 17,
     "metadata": {},
     "output_type": "execute_result"
    }
   ],
   "source": [
    "requests.get(\"http://www.pythonscraping.com/pages/cookies/profile.php\")\n",
    "# 頁面真的不存在了"
   ]
  },
  {
   "cell_type": "markdown",
   "metadata": {},
   "source": [
    "### 4. HTML Authentication Header"
   ]
  },
  {
   "cell_type": "code",
   "execution_count": 18,
   "metadata": {},
   "outputs": [
    {
     "data": {
      "text/plain": [
       "'<p>Hello username.</p><p>You entered password as your password.</p>'"
      ]
     },
     "execution_count": 18,
     "metadata": {},
     "output_type": "execute_result"
    }
   ],
   "source": [
    "# 需要使用額外套件\n",
    "from requests.auth import AuthBase, HTTPBasicAuth\n",
    "auth = HTTPBasicAuth('username', 'password')\n",
    "requests.post(\"http://pythonscraping.com/pages/auth/login.php\", auth=auth).text"
   ]
  },
  {
   "cell_type": "code",
   "execution_count": null,
   "metadata": {},
   "outputs": [],
   "source": []
  }
 ],
 "metadata": {
  "kernelspec": {
   "display_name": "Python 3",
   "language": "python",
   "name": "python3"
  },
  "language_info": {
   "codemirror_mode": {
    "name": "ipython",
    "version": 3
   },
   "file_extension": ".py",
   "mimetype": "text/x-python",
   "name": "python",
   "nbconvert_exporter": "python",
   "pygments_lexer": "ipython3",
   "version": "3.7.3"
  }
 },
 "nbformat": 4,
 "nbformat_minor": 2
}
