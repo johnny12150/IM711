{
 "cells": [
  {
   "cell_type": "code",
   "execution_count": 1,
   "metadata": {
    "collapsed": true,
    "jupyter": {
     "outputs_hidden": true
    }
   },
   "outputs": [
    {
     "name": "stdout",
     "output_type": "stream",
     "text": [
      "<html>\n",
      " <head>\n",
      "  <title>\n",
      "   Hello World\n",
      "  </title>\n",
      " </head>\n",
      " <body>\n",
      "  <h2>\n",
      "   Test Header\n",
      "  </h2>\n",
      "  <p>\n",
      "   This is a test.\n",
      "  </p>\n",
      "  <a href=\"/my_link1\" id=\"link1\">\n",
      "   Link 1\n",
      "  </a>\n",
      "  <a href=\"/my_link2\" id=\"link2\">\n",
      "   Link 2\n",
      "  </a>\n",
      "  <p>\n",
      "   Hello,\n",
      "   <b class=\"boldtext\">\n",
      "    Bold Text\n",
      "   </b>\n",
      "  </p>\n",
      " </body>\n",
      "</html>\n",
      "\n"
     ]
    }
   ],
   "source": [
    "from bs4 import BeautifulSoup\n",
    "\n",
    "# 原始 HTML 程式碼\n",
    "html_doc = \"\"\"\n",
    "<html><head><title>Hello World</title></head>\n",
    "<body><h2>Test Header</h2>\n",
    "<p>This is a test.</p>\n",
    "<a id=\"link1\" href=\"/my_link1\">Link 1</a>\n",
    "<a id=\"link2\" href=\"/my_link2\">Link 2</a>\n",
    "<p>Hello, <b class=\"boldtext\">Bold Text</b></p>\n",
    "</body></html>\n",
    "\"\"\"\n",
    "\n",
    "# 以 Beautiful Soup 解析 HTML 程式碼\n",
    "soup = BeautifulSoup(html_doc, 'html.parser')\n",
    "\n",
    "# 輸出排版後的 HTML 程式碼\n",
    "print(soup.prettify())"
   ]
  },
  {
   "cell_type": "markdown",
   "metadata": {},
   "source": [
    "### BeautifulSoup obj"
   ]
  },
  {
   "cell_type": "code",
   "execution_count": 7,
   "metadata": {},
   "outputs": [
    {
     "data": {
      "text/plain": [
       "<div>\n",
       "Lorem ipsum dolor sit amet, consectetur adipisicing elit, sed do eiusmod tempor incididunt ut labore et dolore magna aliqua. Ut enim ad minim veniam, quis nostrud exercitation ullamco laboris nisi ut aliquip ex ea commodo consequat. Duis aute irure dolor in reprehenderit in voluptate velit esse cillum dolore eu fugiat nulla pariatur. Excepteur sint occaecat cupidatat non proident, sunt in culpa qui officia deserunt mollit anim id est laborum.\n",
       "</div>"
      ]
     },
     "execution_count": 7,
     "metadata": {},
     "output_type": "execute_result"
    }
   ],
   "source": [
    "from urllib.request import urlopen\n",
    "\n",
    "html = urlopen('http://www.pythonscraping.com/pages/page1.html ')\n",
    "bsObj = BeautifulSoup(html.read(), 'html.parser')\n",
    "# 列印出div內的東西\n",
    "bsObj.div"
   ]
  },
  {
   "cell_type": "markdown",
   "metadata": {},
   "source": [
    "### BS find"
   ]
  },
  {
   "cell_type": "code",
   "execution_count": 12,
   "metadata": {},
   "outputs": [
    {
     "name": "stdout",
     "output_type": "stream",
     "text": [
      "41\n",
      "34\n"
     ]
    }
   ],
   "source": [
    "html = urlopen('http://www.pythonscraping.com/pages/warandpeace.html')\n",
    "bsObj = BeautifulSoup(html.read(), 'html.parser')\n",
    "\n",
    "# 分別記錄綠色 & 紅色\n",
    "greenList = bsObj.findAll(\"span\", {\"class\":\"green\"})\n",
    "redList = bsObj.findAll(\"span\", {'class': 'red'})\n",
    "\n",
    "print(len(greenList))\n",
    "print(len(redList))"
   ]
  },
  {
   "cell_type": "code",
   "execution_count": 13,
   "metadata": {},
   "outputs": [
    {
     "data": {
      "text/plain": [
       "[<a class=\"link\" href=\"https://class.ruten.com.tw/category/rank_list.php?class=0011\" title=\"前往 電腦、電子、周邊 熱門銷售頁面\">熱銷</a>,\n",
       " <a class=\"link\" href=\"https://class.ruten.com.tw/category/rank_list.php?class=0021\" title=\"前往 手機、通訊 熱門銷售頁面\">熱銷</a>,\n",
       " <a class=\"link\" href=\"https://class.ruten.com.tw/category/rank_list.php?class=0023\" title=\"前往 家電、影音周邊 熱門銷售頁面\">熱銷</a>,\n",
       " <a class=\"link\" href=\"https://class.ruten.com.tw/category/rank_list.php?class=0019\" title=\"前往 交通工具 熱門銷售頁面\">熱銷</a>,\n",
       " <a class=\"link\" href=\"https://class.ruten.com.tw/category/rank_list.php?class=0008\" title=\"前往 相機、攝影機 熱門銷售頁面\">熱銷</a>,\n",
       " <a class=\"link\" href=\"https://class.ruten.com.tw/category/rank_list.php?class=0005\" title=\"前往 玩具、公仔 熱門銷售頁面\">熱銷</a>,\n",
       " <a class=\"link\" href=\"https://class.ruten.com.tw/category/rank_list.php?class=0022\" title=\"前往 電玩、遊戲 熱門銷售頁面\">熱銷</a>,\n",
       " <a class=\"link\" href=\"https://class.ruten.com.tw/category/rank_list.php?class=0009\" title=\"前往 生活、居家 熱門銷售頁面\">熱銷</a>,\n",
       " <a class=\"link\" href=\"https://class.ruten.com.tw/category/rank_list.php?class=0018\" title=\"前往 男裝、配件、男鞋 熱門銷售頁面\">熱銷</a>,\n",
       " <a class=\"link\" href=\"https://class.ruten.com.tw/category/rank_list.php?class=0003\" title=\"前往 運動、健身 熱門銷售頁面\">熱銷</a>,\n",
       " <a class=\"link\" href=\"https://class.ruten.com.tw/category/rank_list.php?class=0020\" title=\"前往 休閒、旅遊 熱門銷售頁面\">熱銷</a>,\n",
       " <a class=\"link\" href=\"https://class.ruten.com.tw/category/rank_list.php?class=0024\" title=\"前往 名產、食品 熱門銷售頁面\">熱銷</a>,\n",
       " <a class=\"link\" href=\"https://class.ruten.com.tw/category/rank_list.php?class=0012\" title=\"前往 保養、彩妝 熱門銷售頁面\">熱銷</a>,\n",
       " <a class=\"link\" href=\"https://class.ruten.com.tw/category/rank_list.php?class=0002\" title=\"前往 流行女裝、內睡衣 熱門銷售頁面\">熱銷</a>,\n",
       " <a class=\"link\" href=\"https://class.ruten.com.tw/category/rank_list.php?class=0014\" title=\"前往 女性飾品、配件 熱門銷售頁面\">熱銷</a>,\n",
       " <a class=\"link\" href=\"https://class.ruten.com.tw/category/rank_list.php?class=0015\" title=\"前往 女包、精品與女鞋 熱門銷售頁面\">熱銷</a>,\n",
       " <a class=\"link\" href=\"https://class.ruten.com.tw/category/rank_list.php?class=0001\" title=\"前往 嬰幼童、母親 熱門銷售頁面\">熱銷</a>,\n",
       " <a class=\"link\" href=\"https://class.ruten.com.tw/category/rank_list.php?class=0006\" title=\"前往 書籍、文創、科學 熱門銷售頁面\">熱銷</a>,\n",
       " <a class=\"link\" href=\"https://class.ruten.com.tw/category/rank_list.php?class=0010\" title=\"前往 音樂、電影 熱門銷售頁面\">熱銷</a>,\n",
       " <a class=\"link\" href=\"https://class.ruten.com.tw/category/rank_list.php?class=0004\" title=\"前往 明星、偶像 熱門銷售頁面\">熱銷</a>,\n",
       " <a class=\"link\" href=\"https://class.ruten.com.tw/category/rank_list.php?class=0017\" title=\"前往 鐘錶、眼鏡 熱門銷售頁面\">熱銷</a>,\n",
       " <a class=\"link\" href=\"https://class.ruten.com.tw/category/rank_list.php?class=0013\" title=\"前往 古董、收藏 熱門銷售頁面\">熱銷</a>,\n",
       " <a class=\"link\" href=\"https://class.ruten.com.tw/category/rank_list.php?class=0007\" title=\"前往 不動產、百業、服務 熱門銷售頁面\">熱銷</a>,\n",
       " <a class=\"link\" href=\"https://class.ruten.com.tw/category/rank_list.php?class=0025\">熱銷</a>]"
      ]
     },
     "execution_count": 13,
     "metadata": {},
     "output_type": "execute_result"
    }
   ],
   "source": [
    "# 列印出http://www.ruten.com.tw/內, class屬性為”link”的<a>標籤共有幾個\n",
    "html = urlopen('http://www.ruten.com.tw')\n",
    "bsObj = BeautifulSoup(html.read(), 'html.parser')\n",
    "\n",
    "List = bsObj.findAll(\"a\", {\"class\":\"link\"})\n",
    "\n",
    "List"
   ]
  },
  {
   "cell_type": "markdown",
   "metadata": {},
   "source": [
    "### childern, parent\n",
    "> https://www.jianshu.com/p/b23e33dfcdbb"
   ]
  },
  {
   "cell_type": "code",
   "execution_count": 32,
   "metadata": {},
   "outputs": [
    {
     "name": "stdout",
     "output_type": "stream",
     "text": [
      "\n",
      "Vegetable Basket\n",
      "\n",
      "['\\nVegetable Basket\\n']\n",
      "-------------------\n",
      "\n",
      "Russian Nesting Dolls\n",
      "\n",
      "['\\nRussian Nesting Dolls\\n']\n",
      "-------------------\n",
      "\n",
      "Fish Painting\n",
      "\n",
      "['\\nFish Painting\\n']\n",
      "-------------------\n",
      "\n",
      "Dead Parrot\n",
      "\n",
      "['\\nDead Parrot\\n']\n",
      "-------------------\n",
      "\n",
      "Mystery Box\n",
      "\n",
      "['\\nMystery Box\\n']\n",
      "-------------------\n"
     ]
    }
   ],
   "source": [
    "from urllib.request import urlopen\n",
    "from bs4 import BeautifulSoup\n",
    "\n",
    "# 列出所有item title\n",
    "html = urlopen('http://www.pythonscraping.com/pages/page3.html')\n",
    "bsObj = BeautifulSoup(html.read(), 'html.parser')\n",
    "\n",
    "# 注意!!  是用find\n",
    "for sib in bsObj.find(\"table\", {\"id\":\"giftList\"}).tr.next_siblings:\n",
    "    # 過濾掉非產品的內容(EX: sib是空的)\n",
    "    if sib.find(\"td\") != -1:\n",
    "        # 產品內容\n",
    "        print(sib.find(\"td\").get_text())\n",
    "        print(sib.find(\"td\").contents)\n",
    "        print('-------------------')"
   ]
  },
  {
   "cell_type": "markdown",
   "metadata": {},
   "source": [
    "### Regular Expression"
   ]
  },
  {
   "cell_type": "code",
   "execution_count": null,
   "metadata": {},
   "outputs": [],
   "source": [
    "import re\n"
   ]
  }
 ],
 "metadata": {
  "kernelspec": {
   "display_name": "Python 3",
   "language": "python",
   "name": "python3"
  },
  "language_info": {
   "codemirror_mode": {
    "name": "ipython",
    "version": 3
   },
   "file_extension": ".py",
   "mimetype": "text/x-python",
   "name": "python",
   "nbconvert_exporter": "python",
   "pygments_lexer": "ipython3",
   "version": "3.7.3"
  }
 },
 "nbformat": 4,
 "nbformat_minor": 2
}
